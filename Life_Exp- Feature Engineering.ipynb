{
    "cells": [
        {
            "metadata": {},
            "cell_type": "markdown",
            "source": "# Life Expectancy- Feature Engineering"
        },
        {
            "metadata": {},
            "cell_type": "code",
            "source": "import pandas as pd\nimport numpy as np\nimport matplotlib.pyplot as plt\n%matplotlib inline\nimport seaborn as sns\n\npd.pandas.set_option('display.max_columns',None)",
            "execution_count": 1,
            "outputs": []
        },
        {
            "metadata": {},
            "cell_type": "code",
            "source": "import types\nimport pandas as pd\nfrom botocore.client import Config\nimport ibm_boto3\n\ndef __iter__(self): return 0\n\n# @hidden_cell\n# The following code accesses a file in your IBM Cloud Object Storage. It includes your credentials.\n# You might want to remove those credentials before you share the notebook.\nclient_ae1b71cc049e4c9b85a0caaac9f48f6b = ibm_boto3.client(service_name='s3',\n    ibm_api_key_id='Paa-MBSOSgWmzwPOzLK5V-axW52wUerKWyGvIZzOYRWz',\n    ibm_auth_endpoint=\"https://iam.cloud.ibm.com/oidc/token\",\n    config=Config(signature_version='oauth'),\n    endpoint_url='https://s3.eu-geo.objectstorage.service.networklayer.com')\n\nbody = client_ae1b71cc049e4c9b85a0caaac9f48f6b.get_object(Bucket='firstproject-donotdelete-pr-pkwev7v7emc99n',Key='Life_exp_data.csv')['Body']\n# add missing __iter__ method, so pandas accepts body as file-like object\nif not hasattr(body, \"__iter__\"): body.__iter__ = types.MethodType( __iter__, body )\n\ndf = pd.read_csv(body)\ndf.head()",
            "execution_count": 2,
            "outputs": [
                {
                    "output_type": "execute_result",
                    "execution_count": 2,
                    "data": {
                        "text/plain": "       Country  Year      Status  Life expectancy   Adult Mortality  \\\n0  Afghanistan  2015  Developing              65.0            263.0   \n1  Afghanistan  2014  Developing              59.9            271.0   \n2  Afghanistan  2013  Developing              59.9            268.0   \n3  Afghanistan  2012  Developing              59.5            272.0   \n4  Afghanistan  2011  Developing              59.2            275.0   \n\n   infant deaths  Alcohol  percentage expenditure  Hepatitis B  Measles   \\\n0             62     0.01               71.279624         65.0      1154   \n1             64     0.01               73.523582         62.0       492   \n2             66     0.01               73.219243         64.0       430   \n3             69     0.01               78.184215         67.0      2787   \n4             71     0.01                7.097109         68.0      3013   \n\n    BMI   under-five deaths   Polio  Total expenditure  Diphtheria   \\\n0   19.1                  83    6.0               8.16         65.0   \n1   18.6                  86   58.0               8.18         62.0   \n2   18.1                  89   62.0               8.13         64.0   \n3   17.6                  93   67.0               8.52         67.0   \n4   17.2                  97   68.0               7.87         68.0   \n\n    HIV/AIDS         GDP  Population   thinness  1-19 years  \\\n0        0.1  584.259210  33736494.0                   17.2   \n1        0.1  612.696514    327582.0                   17.5   \n2        0.1  631.744976  31731688.0                   17.7   \n3        0.1  669.959000   3696958.0                   17.9   \n4        0.1   63.537231   2978599.0                   18.2   \n\n    thinness 5-9 years  Income composition of resources  Schooling  \n0                 17.3                            0.479       10.1  \n1                 17.5                            0.476       10.0  \n2                 17.7                            0.470        9.9  \n3                 18.0                            0.463        9.8  \n4                 18.2                            0.454        9.5  ",
                        "text/html": "<div>\n<style scoped>\n    .dataframe tbody tr th:only-of-type {\n        vertical-align: middle;\n    }\n\n    .dataframe tbody tr th {\n        vertical-align: top;\n    }\n\n    .dataframe thead th {\n        text-align: right;\n    }\n</style>\n<table border=\"1\" class=\"dataframe\">\n  <thead>\n    <tr style=\"text-align: right;\">\n      <th></th>\n      <th>Country</th>\n      <th>Year</th>\n      <th>Status</th>\n      <th>Life expectancy</th>\n      <th>Adult Mortality</th>\n      <th>infant deaths</th>\n      <th>Alcohol</th>\n      <th>percentage expenditure</th>\n      <th>Hepatitis B</th>\n      <th>Measles</th>\n      <th>BMI</th>\n      <th>under-five deaths</th>\n      <th>Polio</th>\n      <th>Total expenditure</th>\n      <th>Diphtheria</th>\n      <th>HIV/AIDS</th>\n      <th>GDP</th>\n      <th>Population</th>\n      <th>thinness  1-19 years</th>\n      <th>thinness 5-9 years</th>\n      <th>Income composition of resources</th>\n      <th>Schooling</th>\n    </tr>\n  </thead>\n  <tbody>\n    <tr>\n      <th>0</th>\n      <td>Afghanistan</td>\n      <td>2015</td>\n      <td>Developing</td>\n      <td>65.0</td>\n      <td>263.0</td>\n      <td>62</td>\n      <td>0.01</td>\n      <td>71.279624</td>\n      <td>65.0</td>\n      <td>1154</td>\n      <td>19.1</td>\n      <td>83</td>\n      <td>6.0</td>\n      <td>8.16</td>\n      <td>65.0</td>\n      <td>0.1</td>\n      <td>584.259210</td>\n      <td>33736494.0</td>\n      <td>17.2</td>\n      <td>17.3</td>\n      <td>0.479</td>\n      <td>10.1</td>\n    </tr>\n    <tr>\n      <th>1</th>\n      <td>Afghanistan</td>\n      <td>2014</td>\n      <td>Developing</td>\n      <td>59.9</td>\n      <td>271.0</td>\n      <td>64</td>\n      <td>0.01</td>\n      <td>73.523582</td>\n      <td>62.0</td>\n      <td>492</td>\n      <td>18.6</td>\n      <td>86</td>\n      <td>58.0</td>\n      <td>8.18</td>\n      <td>62.0</td>\n      <td>0.1</td>\n      <td>612.696514</td>\n      <td>327582.0</td>\n      <td>17.5</td>\n      <td>17.5</td>\n      <td>0.476</td>\n      <td>10.0</td>\n    </tr>\n    <tr>\n      <th>2</th>\n      <td>Afghanistan</td>\n      <td>2013</td>\n      <td>Developing</td>\n      <td>59.9</td>\n      <td>268.0</td>\n      <td>66</td>\n      <td>0.01</td>\n      <td>73.219243</td>\n      <td>64.0</td>\n      <td>430</td>\n      <td>18.1</td>\n      <td>89</td>\n      <td>62.0</td>\n      <td>8.13</td>\n      <td>64.0</td>\n      <td>0.1</td>\n      <td>631.744976</td>\n      <td>31731688.0</td>\n      <td>17.7</td>\n      <td>17.7</td>\n      <td>0.470</td>\n      <td>9.9</td>\n    </tr>\n    <tr>\n      <th>3</th>\n      <td>Afghanistan</td>\n      <td>2012</td>\n      <td>Developing</td>\n      <td>59.5</td>\n      <td>272.0</td>\n      <td>69</td>\n      <td>0.01</td>\n      <td>78.184215</td>\n      <td>67.0</td>\n      <td>2787</td>\n      <td>17.6</td>\n      <td>93</td>\n      <td>67.0</td>\n      <td>8.52</td>\n      <td>67.0</td>\n      <td>0.1</td>\n      <td>669.959000</td>\n      <td>3696958.0</td>\n      <td>17.9</td>\n      <td>18.0</td>\n      <td>0.463</td>\n      <td>9.8</td>\n    </tr>\n    <tr>\n      <th>4</th>\n      <td>Afghanistan</td>\n      <td>2011</td>\n      <td>Developing</td>\n      <td>59.2</td>\n      <td>275.0</td>\n      <td>71</td>\n      <td>0.01</td>\n      <td>7.097109</td>\n      <td>68.0</td>\n      <td>3013</td>\n      <td>17.2</td>\n      <td>97</td>\n      <td>68.0</td>\n      <td>7.87</td>\n      <td>68.0</td>\n      <td>0.1</td>\n      <td>63.537231</td>\n      <td>2978599.0</td>\n      <td>18.2</td>\n      <td>18.2</td>\n      <td>0.454</td>\n      <td>9.5</td>\n    </tr>\n  </tbody>\n</table>\n</div>"
                    },
                    "metadata": {}
                }
            ]
        },
        {
            "metadata": {},
            "cell_type": "markdown",
            "source": "## Handling Missing Values"
        },
        {
            "metadata": {},
            "cell_type": "code",
            "source": "## Now lets check for numerical variables the contains missing values\nnumerical_with_nan=[feature for feature in df.columns if df[feature].isnull().sum()>1 and df[feature].dtypes!='O']\n\n## We will print the numerical nan variables and percentage of missing values\n\nfor feature in numerical_with_nan:\n    print(\"{}: {}% missing value\".format(feature,np.around(df[feature].isnull().mean(),4)))",
            "execution_count": 3,
            "outputs": [
                {
                    "output_type": "stream",
                    "text": "Life expectancy : 0.0034% missing value\nAdult Mortality: 0.0034% missing value\nAlcohol: 0.066% missing value\nHepatitis B: 0.1882% missing value\n BMI : 0.0116% missing value\nPolio: 0.0065% missing value\nTotal expenditure: 0.0769% missing value\nDiphtheria : 0.0065% missing value\nGDP: 0.1525% missing value\nPopulation: 0.2219% missing value\n thinness  1-19 years: 0.0116% missing value\n thinness 5-9 years: 0.0116% missing value\nIncome composition of resources: 0.0568% missing value\nSchooling: 0.0555% missing value\n",
                    "name": "stdout"
                }
            ]
        },
        {
            "metadata": {},
            "cell_type": "code",
            "source": "## Replacing the numerical Missing Values\n\nfor feature in numerical_with_nan:\n    ## We will replace by using median since there are outliers\n    median_value=df[feature].median()\n    df[feature].fillna(median_value,inplace=True)\n    \ndf[numerical_with_nan].isnull().sum()\n    \n    ",
            "execution_count": 4,
            "outputs": [
                {
                    "output_type": "execute_result",
                    "execution_count": 4,
                    "data": {
                        "text/plain": "Life expectancy                    0\nAdult Mortality                    0\nAlcohol                            0\nHepatitis B                        0\n BMI                               0\nPolio                              0\nTotal expenditure                  0\nDiphtheria                         0\nGDP                                0\nPopulation                         0\n thinness  1-19 years              0\n thinness 5-9 years                0\nIncome composition of resources    0\nSchooling                          0\ndtype: int64"
                    },
                    "metadata": {}
                }
            ]
        },
        {
            "metadata": {},
            "cell_type": "code",
            "source": "df.head()",
            "execution_count": 5,
            "outputs": [
                {
                    "output_type": "execute_result",
                    "execution_count": 5,
                    "data": {
                        "text/plain": "       Country  Year      Status  Life expectancy   Adult Mortality  \\\n0  Afghanistan  2015  Developing              65.0            263.0   \n1  Afghanistan  2014  Developing              59.9            271.0   \n2  Afghanistan  2013  Developing              59.9            268.0   \n3  Afghanistan  2012  Developing              59.5            272.0   \n4  Afghanistan  2011  Developing              59.2            275.0   \n\n   infant deaths  Alcohol  percentage expenditure  Hepatitis B  Measles   \\\n0             62     0.01               71.279624         65.0      1154   \n1             64     0.01               73.523582         62.0       492   \n2             66     0.01               73.219243         64.0       430   \n3             69     0.01               78.184215         67.0      2787   \n4             71     0.01                7.097109         68.0      3013   \n\n    BMI   under-five deaths   Polio  Total expenditure  Diphtheria   \\\n0   19.1                  83    6.0               8.16         65.0   \n1   18.6                  86   58.0               8.18         62.0   \n2   18.1                  89   62.0               8.13         64.0   \n3   17.6                  93   67.0               8.52         67.0   \n4   17.2                  97   68.0               7.87         68.0   \n\n    HIV/AIDS         GDP  Population   thinness  1-19 years  \\\n0        0.1  584.259210  33736494.0                   17.2   \n1        0.1  612.696514    327582.0                   17.5   \n2        0.1  631.744976  31731688.0                   17.7   \n3        0.1  669.959000   3696958.0                   17.9   \n4        0.1   63.537231   2978599.0                   18.2   \n\n    thinness 5-9 years  Income composition of resources  Schooling  \n0                 17.3                            0.479       10.1  \n1                 17.5                            0.476       10.0  \n2                 17.7                            0.470        9.9  \n3                 18.0                            0.463        9.8  \n4                 18.2                            0.454        9.5  ",
                        "text/html": "<div>\n<style scoped>\n    .dataframe tbody tr th:only-of-type {\n        vertical-align: middle;\n    }\n\n    .dataframe tbody tr th {\n        vertical-align: top;\n    }\n\n    .dataframe thead th {\n        text-align: right;\n    }\n</style>\n<table border=\"1\" class=\"dataframe\">\n  <thead>\n    <tr style=\"text-align: right;\">\n      <th></th>\n      <th>Country</th>\n      <th>Year</th>\n      <th>Status</th>\n      <th>Life expectancy</th>\n      <th>Adult Mortality</th>\n      <th>infant deaths</th>\n      <th>Alcohol</th>\n      <th>percentage expenditure</th>\n      <th>Hepatitis B</th>\n      <th>Measles</th>\n      <th>BMI</th>\n      <th>under-five deaths</th>\n      <th>Polio</th>\n      <th>Total expenditure</th>\n      <th>Diphtheria</th>\n      <th>HIV/AIDS</th>\n      <th>GDP</th>\n      <th>Population</th>\n      <th>thinness  1-19 years</th>\n      <th>thinness 5-9 years</th>\n      <th>Income composition of resources</th>\n      <th>Schooling</th>\n    </tr>\n  </thead>\n  <tbody>\n    <tr>\n      <th>0</th>\n      <td>Afghanistan</td>\n      <td>2015</td>\n      <td>Developing</td>\n      <td>65.0</td>\n      <td>263.0</td>\n      <td>62</td>\n      <td>0.01</td>\n      <td>71.279624</td>\n      <td>65.0</td>\n      <td>1154</td>\n      <td>19.1</td>\n      <td>83</td>\n      <td>6.0</td>\n      <td>8.16</td>\n      <td>65.0</td>\n      <td>0.1</td>\n      <td>584.259210</td>\n      <td>33736494.0</td>\n      <td>17.2</td>\n      <td>17.3</td>\n      <td>0.479</td>\n      <td>10.1</td>\n    </tr>\n    <tr>\n      <th>1</th>\n      <td>Afghanistan</td>\n      <td>2014</td>\n      <td>Developing</td>\n      <td>59.9</td>\n      <td>271.0</td>\n      <td>64</td>\n      <td>0.01</td>\n      <td>73.523582</td>\n      <td>62.0</td>\n      <td>492</td>\n      <td>18.6</td>\n      <td>86</td>\n      <td>58.0</td>\n      <td>8.18</td>\n      <td>62.0</td>\n      <td>0.1</td>\n      <td>612.696514</td>\n      <td>327582.0</td>\n      <td>17.5</td>\n      <td>17.5</td>\n      <td>0.476</td>\n      <td>10.0</td>\n    </tr>\n    <tr>\n      <th>2</th>\n      <td>Afghanistan</td>\n      <td>2013</td>\n      <td>Developing</td>\n      <td>59.9</td>\n      <td>268.0</td>\n      <td>66</td>\n      <td>0.01</td>\n      <td>73.219243</td>\n      <td>64.0</td>\n      <td>430</td>\n      <td>18.1</td>\n      <td>89</td>\n      <td>62.0</td>\n      <td>8.13</td>\n      <td>64.0</td>\n      <td>0.1</td>\n      <td>631.744976</td>\n      <td>31731688.0</td>\n      <td>17.7</td>\n      <td>17.7</td>\n      <td>0.470</td>\n      <td>9.9</td>\n    </tr>\n    <tr>\n      <th>3</th>\n      <td>Afghanistan</td>\n      <td>2012</td>\n      <td>Developing</td>\n      <td>59.5</td>\n      <td>272.0</td>\n      <td>69</td>\n      <td>0.01</td>\n      <td>78.184215</td>\n      <td>67.0</td>\n      <td>2787</td>\n      <td>17.6</td>\n      <td>93</td>\n      <td>67.0</td>\n      <td>8.52</td>\n      <td>67.0</td>\n      <td>0.1</td>\n      <td>669.959000</td>\n      <td>3696958.0</td>\n      <td>17.9</td>\n      <td>18.0</td>\n      <td>0.463</td>\n      <td>9.8</td>\n    </tr>\n    <tr>\n      <th>4</th>\n      <td>Afghanistan</td>\n      <td>2011</td>\n      <td>Developing</td>\n      <td>59.2</td>\n      <td>275.0</td>\n      <td>71</td>\n      <td>0.01</td>\n      <td>7.097109</td>\n      <td>68.0</td>\n      <td>3013</td>\n      <td>17.2</td>\n      <td>97</td>\n      <td>68.0</td>\n      <td>7.87</td>\n      <td>68.0</td>\n      <td>0.1</td>\n      <td>63.537231</td>\n      <td>2978599.0</td>\n      <td>18.2</td>\n      <td>18.2</td>\n      <td>0.454</td>\n      <td>9.5</td>\n    </tr>\n  </tbody>\n</table>\n</div>"
                    },
                    "metadata": {}
                }
            ]
        },
        {
            "metadata": {},
            "cell_type": "markdown",
            "source": "## Handling Categorical Feature"
        },
        {
            "metadata": {},
            "cell_type": "code",
            "source": "categorical_features=[feature for feature in df.columns if df[feature].dtypes=='O']\ncategorical_features",
            "execution_count": 6,
            "outputs": [
                {
                    "output_type": "execute_result",
                    "execution_count": 6,
                    "data": {
                        "text/plain": "['Country', 'Status']"
                    },
                    "metadata": {}
                }
            ]
        },
        {
            "metadata": {},
            "cell_type": "code",
            "source": "for feature in categorical_features:\n    labels_ordered=df.groupby([feature])['Life expectancy '].mean().sort_values().index\n    labels_ordered={k:i for i,k in enumerate(labels_ordered,0)}\n    df[feature]=df[feature].map(labels_ordered)",
            "execution_count": 7,
            "outputs": []
        },
        {
            "metadata": {},
            "cell_type": "code",
            "source": "df.head()",
            "execution_count": 8,
            "outputs": [
                {
                    "output_type": "execute_result",
                    "execution_count": 8,
                    "data": {
                        "text/plain": "   Country  Year  Status  Life expectancy   Adult Mortality  infant deaths  \\\n0       31  2015       0              65.0            263.0             62   \n1       31  2014       0              59.9            271.0             64   \n2       31  2013       0              59.9            268.0             66   \n3       31  2012       0              59.5            272.0             69   \n4       31  2011       0              59.2            275.0             71   \n\n   Alcohol  percentage expenditure  Hepatitis B  Measles    BMI   \\\n0     0.01               71.279624         65.0      1154   19.1   \n1     0.01               73.523582         62.0       492   18.6   \n2     0.01               73.219243         64.0       430   18.1   \n3     0.01               78.184215         67.0      2787   17.6   \n4     0.01                7.097109         68.0      3013   17.2   \n\n   under-five deaths   Polio  Total expenditure  Diphtheria    HIV/AIDS  \\\n0                  83    6.0               8.16         65.0        0.1   \n1                  86   58.0               8.18         62.0        0.1   \n2                  89   62.0               8.13         64.0        0.1   \n3                  93   67.0               8.52         67.0        0.1   \n4                  97   68.0               7.87         68.0        0.1   \n\n          GDP  Population   thinness  1-19 years   thinness 5-9 years  \\\n0  584.259210  33736494.0                   17.2                 17.3   \n1  612.696514    327582.0                   17.5                 17.5   \n2  631.744976  31731688.0                   17.7                 17.7   \n3  669.959000   3696958.0                   17.9                 18.0   \n4   63.537231   2978599.0                   18.2                 18.2   \n\n   Income composition of resources  Schooling  \n0                            0.479       10.1  \n1                            0.476       10.0  \n2                            0.470        9.9  \n3                            0.463        9.8  \n4                            0.454        9.5  ",
                        "text/html": "<div>\n<style scoped>\n    .dataframe tbody tr th:only-of-type {\n        vertical-align: middle;\n    }\n\n    .dataframe tbody tr th {\n        vertical-align: top;\n    }\n\n    .dataframe thead th {\n        text-align: right;\n    }\n</style>\n<table border=\"1\" class=\"dataframe\">\n  <thead>\n    <tr style=\"text-align: right;\">\n      <th></th>\n      <th>Country</th>\n      <th>Year</th>\n      <th>Status</th>\n      <th>Life expectancy</th>\n      <th>Adult Mortality</th>\n      <th>infant deaths</th>\n      <th>Alcohol</th>\n      <th>percentage expenditure</th>\n      <th>Hepatitis B</th>\n      <th>Measles</th>\n      <th>BMI</th>\n      <th>under-five deaths</th>\n      <th>Polio</th>\n      <th>Total expenditure</th>\n      <th>Diphtheria</th>\n      <th>HIV/AIDS</th>\n      <th>GDP</th>\n      <th>Population</th>\n      <th>thinness  1-19 years</th>\n      <th>thinness 5-9 years</th>\n      <th>Income composition of resources</th>\n      <th>Schooling</th>\n    </tr>\n  </thead>\n  <tbody>\n    <tr>\n      <th>0</th>\n      <td>31</td>\n      <td>2015</td>\n      <td>0</td>\n      <td>65.0</td>\n      <td>263.0</td>\n      <td>62</td>\n      <td>0.01</td>\n      <td>71.279624</td>\n      <td>65.0</td>\n      <td>1154</td>\n      <td>19.1</td>\n      <td>83</td>\n      <td>6.0</td>\n      <td>8.16</td>\n      <td>65.0</td>\n      <td>0.1</td>\n      <td>584.259210</td>\n      <td>33736494.0</td>\n      <td>17.2</td>\n      <td>17.3</td>\n      <td>0.479</td>\n      <td>10.1</td>\n    </tr>\n    <tr>\n      <th>1</th>\n      <td>31</td>\n      <td>2014</td>\n      <td>0</td>\n      <td>59.9</td>\n      <td>271.0</td>\n      <td>64</td>\n      <td>0.01</td>\n      <td>73.523582</td>\n      <td>62.0</td>\n      <td>492</td>\n      <td>18.6</td>\n      <td>86</td>\n      <td>58.0</td>\n      <td>8.18</td>\n      <td>62.0</td>\n      <td>0.1</td>\n      <td>612.696514</td>\n      <td>327582.0</td>\n      <td>17.5</td>\n      <td>17.5</td>\n      <td>0.476</td>\n      <td>10.0</td>\n    </tr>\n    <tr>\n      <th>2</th>\n      <td>31</td>\n      <td>2013</td>\n      <td>0</td>\n      <td>59.9</td>\n      <td>268.0</td>\n      <td>66</td>\n      <td>0.01</td>\n      <td>73.219243</td>\n      <td>64.0</td>\n      <td>430</td>\n      <td>18.1</td>\n      <td>89</td>\n      <td>62.0</td>\n      <td>8.13</td>\n      <td>64.0</td>\n      <td>0.1</td>\n      <td>631.744976</td>\n      <td>31731688.0</td>\n      <td>17.7</td>\n      <td>17.7</td>\n      <td>0.470</td>\n      <td>9.9</td>\n    </tr>\n    <tr>\n      <th>3</th>\n      <td>31</td>\n      <td>2012</td>\n      <td>0</td>\n      <td>59.5</td>\n      <td>272.0</td>\n      <td>69</td>\n      <td>0.01</td>\n      <td>78.184215</td>\n      <td>67.0</td>\n      <td>2787</td>\n      <td>17.6</td>\n      <td>93</td>\n      <td>67.0</td>\n      <td>8.52</td>\n      <td>67.0</td>\n      <td>0.1</td>\n      <td>669.959000</td>\n      <td>3696958.0</td>\n      <td>17.9</td>\n      <td>18.0</td>\n      <td>0.463</td>\n      <td>9.8</td>\n    </tr>\n    <tr>\n      <th>4</th>\n      <td>31</td>\n      <td>2011</td>\n      <td>0</td>\n      <td>59.2</td>\n      <td>275.0</td>\n      <td>71</td>\n      <td>0.01</td>\n      <td>7.097109</td>\n      <td>68.0</td>\n      <td>3013</td>\n      <td>17.2</td>\n      <td>97</td>\n      <td>68.0</td>\n      <td>7.87</td>\n      <td>68.0</td>\n      <td>0.1</td>\n      <td>63.537231</td>\n      <td>2978599.0</td>\n      <td>18.2</td>\n      <td>18.2</td>\n      <td>0.454</td>\n      <td>9.5</td>\n    </tr>\n  </tbody>\n</table>\n</div>"
                    },
                    "metadata": {}
                }
            ]
        },
        {
            "metadata": {},
            "cell_type": "code",
            "source": "#The feature engineered dataframe is cnverted to a csv file\ndf.to_csv('New.csv',index=False)",
            "execution_count": 9,
            "outputs": []
        }
    ],
    "metadata": {
        "kernelspec": {
            "name": "python3",
            "display_name": "Python 3.6",
            "language": "python"
        },
        "language_info": {
            "name": "python",
            "version": "3.6.9",
            "mimetype": "text/x-python",
            "codemirror_mode": {
                "name": "ipython",
                "version": 3
            },
            "pygments_lexer": "ipython3",
            "nbconvert_exporter": "python",
            "file_extension": ".py"
        }
    },
    "nbformat": 4,
    "nbformat_minor": 4
}