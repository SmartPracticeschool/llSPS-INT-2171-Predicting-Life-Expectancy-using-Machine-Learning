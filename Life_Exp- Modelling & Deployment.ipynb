{
    "cells": [
        {
            "metadata": {},
            "cell_type": "markdown",
            "source": "# Life Expectancy- Modelling & Deployment"
        },
        {
            "metadata": {},
            "cell_type": "code",
            "source": "import pandas as pd\nimport numpy as np\nimport matplotlib.pyplot as plt\n%matplotlib inline\nimport seaborn as sns\n\npd.pandas.set_option('display.max_columns',None)",
            "execution_count": 3,
            "outputs": []
        },
        {
            "metadata": {},
            "cell_type": "code",
            "source": "#importing the feature engineered dataset New.csv\n\nimport types\nimport pandas as pd\nfrom botocore.client import Config\nimport ibm_boto3\n\ndef __iter__(self): return 0\n\n# @hidden_cell\n# The following code accesses a file in your IBM Cloud Object Storage. It includes your credentials.\n# You might want to remove those credentials before you share the notebook.\nclient_ae1b71cc049e4c9b85a0caaac9f48f6b = ibm_boto3.client(service_name='s3',\n    ibm_api_key_id='Paa-MBSOSgWmzwPOzLK5V-axW52wUerKWyGvIZzOYRWz',\n    ibm_auth_endpoint=\"https://iam.cloud.ibm.com/oidc/token\",\n    config=Config(signature_version='oauth'),\n    endpoint_url='https://s3.eu-geo.objectstorage.service.networklayer.com')\n\nbody = client_ae1b71cc049e4c9b85a0caaac9f48f6b.get_object(Bucket='firstproject-donotdelete-pr-pkwev7v7emc99n',Key='New.csv')['Body']\n# add missing __iter__ method, so pandas accepts body as file-like object\nif not hasattr(body, \"__iter__\"): body.__iter__ = types.MethodType( __iter__, body )\n\ndf = pd.read_csv(body)\ndf.head()",
            "execution_count": 4,
            "outputs": [
                {
                    "output_type": "execute_result",
                    "execution_count": 4,
                    "data": {
                        "text/plain": "   Country  Year  Status  Life expectancy   Adult Mortality  infant deaths  \\\n0       31  2015       0              65.0            263.0             62   \n1       31  2014       0              59.9            271.0             64   \n2       31  2013       0              59.9            268.0             66   \n3       31  2012       0              59.5            272.0             69   \n4       31  2011       0              59.2            275.0             71   \n\n   Alcohol  percentage expenditure  Hepatitis B  Measles    BMI   \\\n0     0.01               71.279624         65.0      1154   19.1   \n1     0.01               73.523582         62.0       492   18.6   \n2     0.01               73.219243         64.0       430   18.1   \n3     0.01               78.184215         67.0      2787   17.6   \n4     0.01                7.097109         68.0      3013   17.2   \n\n   under-five deaths   Polio  Total expenditure  Diphtheria    HIV/AIDS  \\\n0                  83    6.0               8.16         65.0        0.1   \n1                  86   58.0               8.18         62.0        0.1   \n2                  89   62.0               8.13         64.0        0.1   \n3                  93   67.0               8.52         67.0        0.1   \n4                  97   68.0               7.87         68.0        0.1   \n\n          GDP  Population   thinness  1-19 years   thinness 5-9 years  \\\n0  584.259210  33736494.0                   17.2                 17.3   \n1  612.696514    327582.0                   17.5                 17.5   \n2  631.744976  31731688.0                   17.7                 17.7   \n3  669.959000   3696958.0                   17.9                 18.0   \n4   63.537231   2978599.0                   18.2                 18.2   \n\n   Income composition of resources  Schooling  \n0                            0.479       10.1  \n1                            0.476       10.0  \n2                            0.470        9.9  \n3                            0.463        9.8  \n4                            0.454        9.5  ",
                        "text/html": "<div>\n<style scoped>\n    .dataframe tbody tr th:only-of-type {\n        vertical-align: middle;\n    }\n\n    .dataframe tbody tr th {\n        vertical-align: top;\n    }\n\n    .dataframe thead th {\n        text-align: right;\n    }\n</style>\n<table border=\"1\" class=\"dataframe\">\n  <thead>\n    <tr style=\"text-align: right;\">\n      <th></th>\n      <th>Country</th>\n      <th>Year</th>\n      <th>Status</th>\n      <th>Life expectancy</th>\n      <th>Adult Mortality</th>\n      <th>infant deaths</th>\n      <th>Alcohol</th>\n      <th>percentage expenditure</th>\n      <th>Hepatitis B</th>\n      <th>Measles</th>\n      <th>BMI</th>\n      <th>under-five deaths</th>\n      <th>Polio</th>\n      <th>Total expenditure</th>\n      <th>Diphtheria</th>\n      <th>HIV/AIDS</th>\n      <th>GDP</th>\n      <th>Population</th>\n      <th>thinness  1-19 years</th>\n      <th>thinness 5-9 years</th>\n      <th>Income composition of resources</th>\n      <th>Schooling</th>\n    </tr>\n  </thead>\n  <tbody>\n    <tr>\n      <th>0</th>\n      <td>31</td>\n      <td>2015</td>\n      <td>0</td>\n      <td>65.0</td>\n      <td>263.0</td>\n      <td>62</td>\n      <td>0.01</td>\n      <td>71.279624</td>\n      <td>65.0</td>\n      <td>1154</td>\n      <td>19.1</td>\n      <td>83</td>\n      <td>6.0</td>\n      <td>8.16</td>\n      <td>65.0</td>\n      <td>0.1</td>\n      <td>584.259210</td>\n      <td>33736494.0</td>\n      <td>17.2</td>\n      <td>17.3</td>\n      <td>0.479</td>\n      <td>10.1</td>\n    </tr>\n    <tr>\n      <th>1</th>\n      <td>31</td>\n      <td>2014</td>\n      <td>0</td>\n      <td>59.9</td>\n      <td>271.0</td>\n      <td>64</td>\n      <td>0.01</td>\n      <td>73.523582</td>\n      <td>62.0</td>\n      <td>492</td>\n      <td>18.6</td>\n      <td>86</td>\n      <td>58.0</td>\n      <td>8.18</td>\n      <td>62.0</td>\n      <td>0.1</td>\n      <td>612.696514</td>\n      <td>327582.0</td>\n      <td>17.5</td>\n      <td>17.5</td>\n      <td>0.476</td>\n      <td>10.0</td>\n    </tr>\n    <tr>\n      <th>2</th>\n      <td>31</td>\n      <td>2013</td>\n      <td>0</td>\n      <td>59.9</td>\n      <td>268.0</td>\n      <td>66</td>\n      <td>0.01</td>\n      <td>73.219243</td>\n      <td>64.0</td>\n      <td>430</td>\n      <td>18.1</td>\n      <td>89</td>\n      <td>62.0</td>\n      <td>8.13</td>\n      <td>64.0</td>\n      <td>0.1</td>\n      <td>631.744976</td>\n      <td>31731688.0</td>\n      <td>17.7</td>\n      <td>17.7</td>\n      <td>0.470</td>\n      <td>9.9</td>\n    </tr>\n    <tr>\n      <th>3</th>\n      <td>31</td>\n      <td>2012</td>\n      <td>0</td>\n      <td>59.5</td>\n      <td>272.0</td>\n      <td>69</td>\n      <td>0.01</td>\n      <td>78.184215</td>\n      <td>67.0</td>\n      <td>2787</td>\n      <td>17.6</td>\n      <td>93</td>\n      <td>67.0</td>\n      <td>8.52</td>\n      <td>67.0</td>\n      <td>0.1</td>\n      <td>669.959000</td>\n      <td>3696958.0</td>\n      <td>17.9</td>\n      <td>18.0</td>\n      <td>0.463</td>\n      <td>9.8</td>\n    </tr>\n    <tr>\n      <th>4</th>\n      <td>31</td>\n      <td>2011</td>\n      <td>0</td>\n      <td>59.2</td>\n      <td>275.0</td>\n      <td>71</td>\n      <td>0.01</td>\n      <td>7.097109</td>\n      <td>68.0</td>\n      <td>3013</td>\n      <td>17.2</td>\n      <td>97</td>\n      <td>68.0</td>\n      <td>7.87</td>\n      <td>68.0</td>\n      <td>0.1</td>\n      <td>63.537231</td>\n      <td>2978599.0</td>\n      <td>18.2</td>\n      <td>18.2</td>\n      <td>0.454</td>\n      <td>9.5</td>\n    </tr>\n  </tbody>\n</table>\n</div>"
                    },
                    "metadata": {}
                }
            ]
        },
        {
            "metadata": {},
            "cell_type": "code",
            "source": "x = df.drop(['Life expectancy '],axis=1)\ny = df['Life expectancy ']\ntype(x)",
            "execution_count": 5,
            "outputs": [
                {
                    "output_type": "execute_result",
                    "execution_count": 5,
                    "data": {
                        "text/plain": "pandas.core.frame.DataFrame"
                    },
                    "metadata": {}
                }
            ]
        },
        {
            "metadata": {},
            "cell_type": "code",
            "source": "#splitting the dataset for Training and Testing\nfrom sklearn.model_selection import train_test_split\nX_train,X_test,y_train,y_test = train_test_split(x,y,test_size=0.2,random_state=0)",
            "execution_count": 6,
            "outputs": []
        },
        {
            "metadata": {},
            "cell_type": "markdown",
            "source": "## Apllying Random Forest Regressor"
        },
        {
            "metadata": {},
            "cell_type": "code",
            "source": "from sklearn.ensemble import RandomForestRegressor\nregressor=RandomForestRegressor(n_estimators=10,random_state=0)\nfrom sklearn.model_selection import cross_val_score\nregressor.fit(X_train,y_train)\ntrain_score = cross_val_score(regressor,X_train,y_train,cv=5)\ntest_score = cross_val_score(regressor,X_test,y_test,cv=5)\n\nprint(\"train score :\",np.mean(train_score))\nprint(\"test score :\",np.mean(test_score))",
            "execution_count": 7,
            "outputs": [
                {
                    "output_type": "stream",
                    "text": "train score : 0.9681152721877062\ntest score : 0.9385265703438339\n",
                    "name": "stdout"
                }
            ]
        },
        {
            "metadata": {},
            "cell_type": "markdown",
            "source": "### Importing Watson Machine Learning API Client"
        },
        {
            "metadata": {},
            "cell_type": "code",
            "source": "from watson_machine_learning_client import WatsonMachineLearningAPIClient",
            "execution_count": 8,
            "outputs": [
                {
                    "output_type": "stream",
                    "text": "2020-06-15 10:17:57,651 - watson_machine_learning_client.metanames - WARNING - 'AUTHOR_EMAIL' meta prop is deprecated. It will be ignored.\n",
                    "name": "stderr"
                }
            ]
        },
        {
            "metadata": {},
            "cell_type": "code",
            "source": "wml_credentials = {\n  \"apikey\": \"rA_JS3oGch15W7TGG97h862gCdQz9TAggCu6pPXARFgx\",\n  \"iam_apikey_description\": \"Auto-generated for key f426446b-d6e2-4191-97ce-db28a1c52340\",\n  \"iam_apikey_name\": \"Service credentials-1\",\n  \"iam_role_crn\": \"crn:v1:bluemix:public:iam::::serviceRole:Writer\",\n  \"iam_serviceid_crn\": \"crn:v1:bluemix:public:iam-identity::a/f6ed1b7e1a784cfe883690a92e3f8b89::serviceid:ServiceId-4cc25370-25f3-454c-9710-f8cff0dfb754\",\n  \"instance_id\": \"8f159afd-0624-46ce-bda0-e2e2f814b0e6\",\n  \"url\": \"https://eu-gb.ml.cloud.ibm.com\"\n}",
            "execution_count": 9,
            "outputs": []
        },
        {
            "metadata": {},
            "cell_type": "markdown",
            "source": "### Creating a client with our ML service credentials"
        },
        {
            "metadata": {},
            "cell_type": "code",
            "source": "client = WatsonMachineLearningAPIClient(wml_credentials)",
            "execution_count": 10,
            "outputs": []
        },
        {
            "metadata": {},
            "cell_type": "code",
            "source": "model_props = {\n    client.repository.ModelMetaNames.AUTHOR_NAME : \"Martin\",\n    client.repository.ModelMetaNames.AUTHOR_EMAIL : \"martinpathadan234@gmail.com\",\n    client.repository.ModelMetaNames.NAME : \"Life_exp\"\n}",
            "execution_count": 11,
            "outputs": []
        },
        {
            "metadata": {},
            "cell_type": "code",
            "source": "#Creating Watson Machine Learning Model\nmodel_artifact = client.repository.store_model(regressor,meta_props = model_props)",
            "execution_count": 12,
            "outputs": []
        },
        {
            "metadata": {},
            "cell_type": "code",
            "source": "model_artifact",
            "execution_count": 13,
            "outputs": [
                {
                    "output_type": "execute_result",
                    "execution_count": 13,
                    "data": {
                        "text/plain": "{'metadata': {'guid': '2b1908d8-933e-4860-9564-d7f76b36ae9d',\n  'url': 'https://eu-gb.ml.cloud.ibm.com/v3/wml_instances/8f159afd-0624-46ce-bda0-e2e2f814b0e6/published_models/2b1908d8-933e-4860-9564-d7f76b36ae9d',\n  'created_at': '2020-06-15T10:17:57.915Z',\n  'modified_at': '2020-06-15T10:17:57.977Z'},\n 'entity': {'runtime_environment': 'python-3.6',\n  'learning_configuration_url': 'https://eu-gb.ml.cloud.ibm.com/v3/wml_instances/8f159afd-0624-46ce-bda0-e2e2f814b0e6/published_models/2b1908d8-933e-4860-9564-d7f76b36ae9d/learning_configuration',\n  'author': {'name': 'Martin'},\n  'name': 'Life_exp',\n  'learning_iterations_url': 'https://eu-gb.ml.cloud.ibm.com/v3/wml_instances/8f159afd-0624-46ce-bda0-e2e2f814b0e6/published_models/2b1908d8-933e-4860-9564-d7f76b36ae9d/learning_iterations',\n  'feedback_url': 'https://eu-gb.ml.cloud.ibm.com/v3/wml_instances/8f159afd-0624-46ce-bda0-e2e2f814b0e6/published_models/2b1908d8-933e-4860-9564-d7f76b36ae9d/feedback',\n  'latest_version': {'url': 'https://eu-gb.ml.cloud.ibm.com/v3/ml_assets/models/2b1908d8-933e-4860-9564-d7f76b36ae9d/versions/842d12ec-342f-41a6-a563-aae6d878f812',\n   'guid': '842d12ec-342f-41a6-a563-aae6d878f812',\n   'created_at': '2020-06-15T10:17:57.977Z'},\n  'model_type': 'scikit-learn-0.20',\n  'deployments': {'count': 0,\n   'url': 'https://eu-gb.ml.cloud.ibm.com/v3/wml_instances/8f159afd-0624-46ce-bda0-e2e2f814b0e6/published_models/2b1908d8-933e-4860-9564-d7f76b36ae9d/deployments'},\n  'evaluation_metrics_url': 'https://eu-gb.ml.cloud.ibm.com/v3/wml_instances/8f159afd-0624-46ce-bda0-e2e2f814b0e6/published_models/2b1908d8-933e-4860-9564-d7f76b36ae9d/evaluation_metrics'}}"
                    },
                    "metadata": {}
                }
            ]
        },
        {
            "metadata": {},
            "cell_type": "code",
            "source": "guid = client.repository.get_model_uid(model_artifact)\nguid",
            "execution_count": 14,
            "outputs": [
                {
                    "output_type": "execute_result",
                    "execution_count": 14,
                    "data": {
                        "text/plain": "'2b1908d8-933e-4860-9564-d7f76b36ae9d'"
                    },
                    "metadata": {}
                }
            ]
        },
        {
            "metadata": {},
            "cell_type": "markdown",
            "source": "### Deployment Creation"
        },
        {
            "metadata": {},
            "cell_type": "code",
            "source": "#Creating Deployment for our ML Model \ndeploy = client.deployments.create(guid,name = \"Life_exp_d\")",
            "execution_count": 15,
            "outputs": [
                {
                    "output_type": "stream",
                    "text": "\n\n#######################################################################################\n\nSynchronous deployment creation for uid: '2b1908d8-933e-4860-9564-d7f76b36ae9d' started\n\n#######################################################################################\n\n\nINITIALIZING\nDEPLOY_SUCCESS\n\n\n------------------------------------------------------------------------------------------------\nSuccessfully finished deployment creation, deployment_uid='507d25bc-1560-445a-bd57-7d130b946134'\n------------------------------------------------------------------------------------------------\n\n\n",
                    "name": "stdout"
                }
            ]
        },
        {
            "metadata": {},
            "cell_type": "code",
            "source": "#List of deployments\nclient.deployments.list()",
            "execution_count": 16,
            "outputs": [
                {
                    "output_type": "stream",
                    "text": "------------------------------------  ----------  ------  --------------  ------------------------  -----------------  -------------\nGUID                                  NAME        TYPE    STATE           CREATED                   FRAMEWORK          ARTIFACT TYPE\n507d25bc-1560-445a-bd57-7d130b946134  Life_exp_d  online  DEPLOY_SUCCESS  2020-06-15T10:18:01.306Z  scikit-learn-0.20  model\n------------------------------------  ----------  ------  --------------  ------------------------  -----------------  -------------\n",
                    "name": "stdout"
                }
            ]
        },
        {
            "metadata": {},
            "cell_type": "code",
            "source": "deploy",
            "execution_count": 17,
            "outputs": [
                {
                    "output_type": "execute_result",
                    "execution_count": 17,
                    "data": {
                        "text/plain": "{'metadata': {'guid': '507d25bc-1560-445a-bd57-7d130b946134',\n  'url': 'https://eu-gb.ml.cloud.ibm.com/v3/wml_instances/8f159afd-0624-46ce-bda0-e2e2f814b0e6/deployments/507d25bc-1560-445a-bd57-7d130b946134',\n  'created_at': '2020-06-15T10:18:01.306Z',\n  'modified_at': '2020-06-15T10:18:01.464Z'},\n 'entity': {'runtime_environment': 'python-3.6',\n  'name': 'Life_exp_d',\n  'scoring_url': 'https://eu-gb.ml.cloud.ibm.com/v3/wml_instances/8f159afd-0624-46ce-bda0-e2e2f814b0e6/deployments/507d25bc-1560-445a-bd57-7d130b946134/online',\n  'deployable_asset': {'name': 'Life_exp',\n   'url': 'https://eu-gb.ml.cloud.ibm.com/v3/wml_instances/8f159afd-0624-46ce-bda0-e2e2f814b0e6/published_models/2b1908d8-933e-4860-9564-d7f76b36ae9d',\n   'guid': '2b1908d8-933e-4860-9564-d7f76b36ae9d',\n   'created_at': '2020-06-15T10:18:01.285Z',\n   'type': 'model'},\n  'description': 'Description of deployment',\n  'status_details': {'status': 'DEPLOY_SUCCESS'},\n  'model_type': 'scikit-learn-0.20',\n  'status': 'DEPLOY_SUCCESS',\n  'type': 'online',\n  'deployed_version': {'url': 'https://eu-gb.ml.cloud.ibm.com/v3/ml_assets/models/2b1908d8-933e-4860-9564-d7f76b36ae9d/versions/842d12ec-342f-41a6-a563-aae6d878f812',\n   'guid': '842d12ec-342f-41a6-a563-aae6d878f812'}}}"
                    },
                    "metadata": {}
                }
            ]
        },
        {
            "metadata": {},
            "cell_type": "markdown",
            "source": "### Scoring endpoint url"
        },
        {
            "metadata": {},
            "cell_type": "code",
            "source": "#The scoring endpoint url can be used to create ui for our deployment",
            "execution_count": 18,
            "outputs": []
        },
        {
            "metadata": {},
            "cell_type": "code",
            "source": "scoring_url = client.deployments.get_scoring_url(deploy)",
            "execution_count": 19,
            "outputs": []
        },
        {
            "metadata": {},
            "cell_type": "code",
            "source": "scoring_url",
            "execution_count": 20,
            "outputs": [
                {
                    "output_type": "execute_result",
                    "execution_count": 20,
                    "data": {
                        "text/plain": "'https://eu-gb.ml.cloud.ibm.com/v3/wml_instances/8f159afd-0624-46ce-bda0-e2e2f814b0e6/deployments/507d25bc-1560-445a-bd57-7d130b946134/online'"
                    },
                    "metadata": {}
                }
            ]
        }
    ],
    "metadata": {
        "kernelspec": {
            "name": "python3",
            "display_name": "Python 3.6",
            "language": "python"
        },
        "language_info": {
            "name": "python",
            "version": "3.6.9",
            "mimetype": "text/x-python",
            "codemirror_mode": {
                "name": "ipython",
                "version": 3
            },
            "pygments_lexer": "ipython3",
            "nbconvert_exporter": "python",
            "file_extension": ".py"
        }
    },
    "nbformat": 4,
    "nbformat_minor": 4
}